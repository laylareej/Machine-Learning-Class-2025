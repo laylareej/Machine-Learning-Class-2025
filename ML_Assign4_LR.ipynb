{
  "nbformat": 4,
  "nbformat_minor": 0,
  "metadata": {
    "colab": {
      "provenance": []
    },
    "kernelspec": {
      "name": "python3",
      "display_name": "Python 3"
    },
    "language_info": {
      "name": "python"
    }
  },
  "cells": [
    {
      "cell_type": "markdown",
      "source": [
        "Medical Image Classification Tutorial with the MedNIST Dataset"
      ],
      "metadata": {
        "id": "0CmikP3JQQ_Z"
      }
    },
    {
      "cell_type": "markdown",
      "source": [
        "Setup environment"
      ],
      "metadata": {
        "id": "FPdsdpfwQZu9"
      }
    },
    {
      "cell_type": "code",
      "execution_count": 2,
      "metadata": {
        "colab": {
          "base_uri": "https://localhost:8080/"
        },
        "id": "cLrpxwWDbdWD",
        "outputId": "6327fe15-fbd0-4652-e133-ad098f5655b5"
      },
      "outputs": [
        {
          "output_type": "stream",
          "name": "stdout",
          "text": [
            "Traceback (most recent call last):\n",
            "  File \"<string>\", line 1, in <module>\n",
            "ModuleNotFoundError: No module named 'monai'\n",
            "\u001b[2K   \u001b[90m━━━━━━━━━━━━━━━━━━━━━━━━━━━━━━━━━━━━━━━━\u001b[0m \u001b[32m363.4/363.4 MB\u001b[0m \u001b[31m3.6 MB/s\u001b[0m eta \u001b[36m0:00:00\u001b[0m\n",
            "\u001b[2K   \u001b[90m━━━━━━━━━━━━━━━━━━━━━━━━━━━━━━━━━━━━━━━━\u001b[0m \u001b[32m13.8/13.8 MB\u001b[0m \u001b[31m62.4 MB/s\u001b[0m eta \u001b[36m0:00:00\u001b[0m\n",
            "\u001b[2K   \u001b[90m━━━━━━━━━━━━━━━━━━━━━━━━━━━━━━━━━━━━━━━━\u001b[0m \u001b[32m24.6/24.6 MB\u001b[0m \u001b[31m71.6 MB/s\u001b[0m eta \u001b[36m0:00:00\u001b[0m\n",
            "\u001b[2K   \u001b[90m━━━━━━━━━━━━━━━━━━━━━━━━━━━━━━━━━━━━━━━━\u001b[0m \u001b[32m883.7/883.7 kB\u001b[0m \u001b[31m13.2 MB/s\u001b[0m eta \u001b[36m0:00:00\u001b[0m\n",
            "\u001b[2K   \u001b[90m━━━━━━━━━━━━━━━━━━━━━━━━━━━━━━━━━━━━━━━━\u001b[0m \u001b[32m664.8/664.8 MB\u001b[0m \u001b[31m1.1 MB/s\u001b[0m eta \u001b[36m0:00:00\u001b[0m\n",
            "\u001b[2K   \u001b[90m━━━━━━━━━━━━━━━━━━━━━━━━━━━━━━━━━━━━━━━━\u001b[0m \u001b[32m211.5/211.5 MB\u001b[0m \u001b[31m6.1 MB/s\u001b[0m eta \u001b[36m0:00:00\u001b[0m\n",
            "\u001b[2K   \u001b[90m━━━━━━━━━━━━━━━━━━━━━━━━━━━━━━━━━━━━━━━━\u001b[0m \u001b[32m56.3/56.3 MB\u001b[0m \u001b[31m11.3 MB/s\u001b[0m eta \u001b[36m0:00:00\u001b[0m\n",
            "\u001b[2K   \u001b[90m━━━━━━━━━━━━━━━━━━━━━━━━━━━━━━━━━━━━━━━━\u001b[0m \u001b[32m127.9/127.9 MB\u001b[0m \u001b[31m7.5 MB/s\u001b[0m eta \u001b[36m0:00:00\u001b[0m\n",
            "\u001b[2K   \u001b[90m━━━━━━━━━━━━━━━━━━━━━━━━━━━━━━━━━━━━━━━━\u001b[0m \u001b[32m207.5/207.5 MB\u001b[0m \u001b[31m6.1 MB/s\u001b[0m eta \u001b[36m0:00:00\u001b[0m\n",
            "\u001b[2K   \u001b[90m━━━━━━━━━━━━━━━━━━━━━━━━━━━━━━━━━━━━━━━━\u001b[0m \u001b[32m21.1/21.1 MB\u001b[0m \u001b[31m78.4 MB/s\u001b[0m eta \u001b[36m0:00:00\u001b[0m\n",
            "\u001b[2K   \u001b[90m━━━━━━━━━━━━━━━━━━━━━━━━━━━━━━━━━━━━━━━━\u001b[0m \u001b[32m2.6/2.6 MB\u001b[0m \u001b[31m70.2 MB/s\u001b[0m eta \u001b[36m0:00:00\u001b[0m\n",
            "\u001b[?25h"
          ]
        }
      ],
      "source": [
        "!python -c \"import monai\" || pip install -q \"monai-weekly[pillow, tqdm]\"\n",
        "!python -c \"import matplotlib\" || pip install -q matplotlib\n",
        "%matplotlib inline\n"
      ]
    },
    {
      "cell_type": "markdown",
      "source": [
        "Setup imports"
      ],
      "metadata": {
        "id": "OLR9fv2fQQDz"
      }
    },
    {
      "cell_type": "code",
      "source": [
        "pip install numpy"
      ],
      "metadata": {
        "colab": {
          "base_uri": "https://localhost:8080/"
        },
        "id": "HjH-lV1tv_Gm",
        "outputId": "c54f9087-3e8e-4c27-b80c-1363c14be517"
      },
      "execution_count": 6,
      "outputs": [
        {
          "output_type": "stream",
          "name": "stdout",
          "text": [
            "Requirement already satisfied: numpy in /usr/local/lib/python3.11/dist-packages (2.0.2)\n"
          ]
        }
      ]
    },
    {
      "cell_type": "code",
      "source": [
        "import os\n",
        "import shutil\n",
        "import tempfile\n",
        "import matplotlib.pyplot as plt\n",
        "import PIL\n",
        "import torch\n",
        "from torch.utils.tensorboard import SummaryWriter\n",
        "import numpy as np\n",
        "from sklearn.metrics import classification_report\n",
        "\n",
        "from monai.apps import download_and_extract\n",
        "from monai.config import print_config\n",
        "from monai.data import decollate_batch, DataLoader\n",
        "from monai.metrics import ROCAUCMetric\n",
        "from monai.networks.nets import DenseNet121\n",
        "from monai.transforms import (\n",
        "    Activations,\n",
        "    EnsureChannelFirst,\n",
        "    AsDiscrete,\n",
        "    Compose,\n",
        "    LoadImage,\n",
        "    RandFlip,\n",
        "    RandRotate,\n",
        "    RandZoom,\n",
        "    ScaleIntensity,\n",
        ")\n",
        "from monai.utils import set_determinism\n",
        "\n",
        "print_config()"
      ],
      "metadata": {
        "colab": {
          "base_uri": "https://localhost:8080/"
        },
        "id": "6-eICHb3bgNu",
        "outputId": "c7b55e73-4a0d-47a0-dc67-d05ffe6c19db"
      },
      "execution_count": 7,
      "outputs": [
        {
          "output_type": "stream",
          "name": "stdout",
          "text": [
            "MONAI version: 1.5.dev2511\n",
            "Numpy version: 2.0.2\n",
            "Pytorch version: 2.6.0+cu124\n",
            "MONAI flags: HAS_EXT = False, USE_COMPILED = False, USE_META_DICT = False\n",
            "MONAI rev id: 7876647f87c763d854f9546bbc60e12f13af84a6\n",
            "MONAI __file__: /usr/local/lib/python3.11/dist-packages/monai/__init__.py\n",
            "\n",
            "Optional dependencies:\n",
            "Pytorch Ignite version: NOT INSTALLED or UNKNOWN VERSION.\n",
            "ITK version: NOT INSTALLED or UNKNOWN VERSION.\n",
            "Nibabel version: 5.3.2\n",
            "scikit-image version: 0.25.2\n",
            "scipy version: 1.14.1\n",
            "Pillow version: 11.1.0\n",
            "Tensorboard version: 2.18.0\n",
            "gdown version: 5.2.0\n",
            "TorchVision version: 0.21.0+cu124\n",
            "tqdm version: 4.67.1\n",
            "lmdb version: NOT INSTALLED or UNKNOWN VERSION.\n",
            "psutil version: 5.9.5\n",
            "pandas version: 2.2.2\n",
            "einops version: 0.8.1\n",
            "transformers version: 4.49.0\n",
            "mlflow version: NOT INSTALLED or UNKNOWN VERSION.\n",
            "pynrrd version: NOT INSTALLED or UNKNOWN VERSION.\n",
            "clearml version: NOT INSTALLED or UNKNOWN VERSION.\n",
            "\n",
            "For details about installing the optional dependencies, please visit:\n",
            "    https://docs.monai.io/en/latest/installation.html#installing-the-recommended-dependencies\n",
            "\n"
          ]
        }
      ]
    },
    {
      "cell_type": "markdown",
      "source": [
        "Setup data directory\n",
        "You can specify a directory with the MONAI_DATA_DIRECTORY environment variable.\n",
        "This allows you to save results and reuse downloads.\n",
        "If not specified a temporary directory will be used."
      ],
      "metadata": {
        "id": "0Iin4iwkQltE"
      }
    },
    {
      "cell_type": "code",
      "source": [
        "directory = os.environ.get(\"MONAI_DATA_DIRECTORY\")\n",
        "if directory is not None:\n",
        "    os.makedirs(directory, exist_ok=True)\n",
        "root_dir = tempfile.mkdtemp() if directory is None else directory\n",
        "print(root_dir)"
      ],
      "metadata": {
        "colab": {
          "base_uri": "https://localhost:8080/"
        },
        "id": "BjotrNbxcFcv",
        "outputId": "551b8a1c-f05b-4f58-e940-0a925458f6e1"
      },
      "execution_count": 8,
      "outputs": [
        {
          "output_type": "stream",
          "name": "stdout",
          "text": [
            "/tmp/tmplm4ajn4b\n"
          ]
        }
      ]
    },
    {
      "cell_type": "markdown",
      "source": [
        "Download dataset\n",
        "The MedNIST dataset was gathered from several sets from TCIA, the RSNA Bone Age Challenge, and the NIH Chest X-ray dataset.\n",
        "\n",
        "The dataset is kindly made available by Dr. Bradley J. Erickson M.D., Ph.D. (Department of Radiology, Mayo Clinic) under the Creative Commons CC BY-SA 4.0 license.\n",
        "\n",
        "If you use the MedNIST dataset, please acknowledge the source."
      ],
      "metadata": {
        "id": "qIKyGtW7Qy6l"
      }
    },
    {
      "cell_type": "code",
      "source": [
        "resource = \"https://github.com/Project-MONAI/MONAI-extra-test-data/releases/download/0.8.1/MedNIST.tar.gz\"\n",
        "md5 = \"0bc7306e7427e00ad1c5526a6677552d\"\n",
        "\n",
        "compressed_file = os.path.join(root_dir, \"MedNIST.tar.gz\")\n",
        "data_dir = os.path.join(root_dir, \"MedNIST\")\n",
        "if not os.path.exists(data_dir):\n",
        "    download_and_extract(resource, compressed_file, root_dir, md5)"
      ],
      "metadata": {
        "colab": {
          "base_uri": "https://localhost:8080/"
        },
        "id": "HTsSPV5nc78O",
        "outputId": "c6a917c9-eb3f-46bd-a7d1-2454437b8c91"
      },
      "execution_count": 5,
      "outputs": [
        {
          "output_type": "stream",
          "name": "stderr",
          "text": [
            "MedNIST.tar.gz: 59.0MB [00:03, 16.9MB/s]                            "
          ]
        },
        {
          "output_type": "stream",
          "name": "stdout",
          "text": [
            "2025-03-21 01:07:51,424 - INFO - Downloaded: /tmp/tmp4pvukij1/MedNIST.tar.gz\n"
          ]
        },
        {
          "output_type": "stream",
          "name": "stderr",
          "text": [
            "\n"
          ]
        },
        {
          "output_type": "stream",
          "name": "stdout",
          "text": [
            "2025-03-21 01:07:51,557 - INFO - Verified 'MedNIST.tar.gz', md5: 0bc7306e7427e00ad1c5526a6677552d.\n",
            "2025-03-21 01:07:51,558 - INFO - Writing into directory: /tmp/tmp4pvukij1.\n"
          ]
        }
      ]
    },
    {
      "cell_type": "markdown",
      "source": [
        "Set deterministic training for reproducibility"
      ],
      "metadata": {
        "id": "TvR1mRK6Q2t1"
      }
    },
    {
      "cell_type": "code",
      "source": [
        "set_determinism(seed=0)"
      ],
      "metadata": {
        "id": "Xe99b01KdnTw"
      },
      "execution_count": 6,
      "outputs": []
    },
    {
      "cell_type": "markdown",
      "source": [
        "Read image filenames from the dataset folders\n",
        "First of all, check the dataset files and show some statistics.\n",
        "There are 6 folders in the dataset: Hand, AbdomenCT, CXR, ChestCT, BreastMRI, HeadCT,\n",
        "which should be used as the labels to train our classification model."
      ],
      "metadata": {
        "id": "Gouj3GcNQ5ts"
      }
    },
    {
      "cell_type": "code",
      "source": [
        "class_names = sorted(x for x in os.listdir(data_dir) if os.path.isdir(os.path.join(data_dir, x)))\n",
        "num_class = len(class_names)\n",
        "image_files = [\n",
        "    [os.path.join(data_dir, class_names[i], x) for x in os.listdir(os.path.join(data_dir, class_names[i]))]\n",
        "    for i in range(num_class)\n",
        "]\n",
        "num_each = [len(image_files[i]) for i in range(num_class)]\n",
        "image_files_list = []\n",
        "image_class = []\n",
        "for i in range(num_class):\n",
        "    image_files_list.extend(image_files[i])\n",
        "    image_class.extend([i] * num_each[i])\n",
        "num_total = len(image_class)\n",
        "image_width, image_height = PIL.Image.open(image_files_list[0]).size\n",
        "\n",
        "print(f\"Total image count: {num_total}\")\n",
        "print(f\"Image dimensions: {image_width} x {image_height}\")\n",
        "print(f\"Label names: {class_names}\")\n",
        "print(f\"Label counts: {num_each}\")"
      ],
      "metadata": {
        "colab": {
          "base_uri": "https://localhost:8080/"
        },
        "id": "RW1SF3Mjd0FT",
        "outputId": "6bfc6c12-2fc9-4fa8-c599-c756c73401a6"
      },
      "execution_count": 7,
      "outputs": [
        {
          "output_type": "stream",
          "name": "stdout",
          "text": [
            "Total image count: 58954\n",
            "Image dimensions: 64 x 64\n",
            "Label names: ['AbdomenCT', 'BreastMRI', 'CXR', 'ChestCT', 'Hand', 'HeadCT']\n",
            "Label counts: [10000, 8954, 10000, 10000, 10000, 10000]\n"
          ]
        }
      ]
    },
    {
      "cell_type": "markdown",
      "source": [
        "Randomly pick images from the dataset to visualize and check"
      ],
      "metadata": {
        "id": "2UrVEawgQ9f7"
      }
    },
    {
      "cell_type": "code",
      "source": [
        "plt.subplots(3, 3, figsize=(8, 8))\n",
        "for i, k in enumerate(np.random.randint(num_total, size=9)):\n",
        "    im = PIL.Image.open(image_files_list[k])\n",
        "    arr = np.array(im)\n",
        "    plt.subplot(3, 3, i + 1)\n",
        "    plt.xlabel(class_names[image_class[k]])\n",
        "    plt.imshow(arr, cmap=\"gray\", vmin=0, vmax=255)\n",
        "plt.tight_layout()\n",
        "plt.show()"
      ],
      "metadata": {
        "colab": {
          "base_uri": "https://localhost:8080/",
          "height": 769
        },
        "id": "c6_RxEH5d4J_",
        "outputId": "3bb1b805-8f34-48a3-e10d-58b4ada4fe9b"
      },
      "execution_count": 8,
      "outputs": [
        {
          "output_type": "display_data",
          "data": {
            "text/plain": [
              "<Figure size 800x800 with 9 Axes>"
            ],
            "image/png": "[encoded data removed]"
          },
          "metadata": {}
        }
      ]
    },
    {
      "cell_type": "markdown",
      "source": [
        "Prepare training, validation and test data lists\n",
        "Randomly select 10% of the dataset as validation and 10% as test."
      ],
      "metadata": {
        "id": "5sTRXqFNRBSa"
      }
    },
    {
      "cell_type": "code",
      "source": [
        "val_frac = 0.1\n",
        "test_frac = 0.1\n",
        "length = len(image_files_list)\n",
        "indices = np.arange(length)\n",
        "np.random.shuffle(indices)\n",
        "\n",
        "test_split = int(test_frac * length)\n",
        "val_split = int(val_frac * length) + test_split\n",
        "test_indices = indices[:test_split]\n",
        "val_indices = indices[test_split:val_split]\n",
        "train_indices = indices[val_split:]\n",
        "\n",
        "train_x = [image_files_list[i] for i in train_indices]\n",
        "train_y = [image_class[i] for i in train_indices]\n",
        "val_x = [image_files_list[i] for i in val_indices]\n",
        "val_y = [image_class[i] for i in val_indices]\n",
        "test_x = [image_files_list[i] for i in test_indices]\n",
        "test_y = [image_class[i] for i in test_indices]\n",
        "\n",
        "print(f\"Training count: {len(train_x)}, Validation count: \" f\"{len(val_x)}, Test count: {len(test_x)}\")"
      ],
      "metadata": {
        "colab": {
          "base_uri": "https://localhost:8080/"
        },
        "id": "a76qLHZMd6Tp",
        "outputId": "abc11b38-cdb5-4496-f12c-6aae6561508b"
      },
      "execution_count": 9,
      "outputs": [
        {
          "output_type": "stream",
          "name": "stdout",
          "text": [
            "Training count: 47164, Validation count: 5895, Test count: 5895\n"
          ]
        }
      ]
    },
    {
      "cell_type": "markdown",
      "source": [
        "Define MONAI transforms, Dataset and Dataloader to pre-process data"
      ],
      "metadata": {
        "id": "XArkl1rNRFXy"
      }
    },
    {
      "cell_type": "code",
      "source": [
        "train_transforms = Compose(\n",
        "    [\n",
        "        LoadImage(image_only=True),\n",
        "        EnsureChannelFirst(),\n",
        "        ScaleIntensity(),\n",
        "        RandRotate(range_x=np.pi / 12, prob=0.5, keep_size=True),\n",
        "        RandFlip(spatial_axis=0, prob=0.5),\n",
        "        RandZoom(min_zoom=0.9, max_zoom=1.1, prob=0.5),\n",
        "    ]\n",
        ")\n",
        "\n",
        "val_transforms = Compose([LoadImage(image_only=True), EnsureChannelFirst(), ScaleIntensity()])\n",
        "\n",
        "y_pred_trans = Compose([Activations(softmax=True)])\n",
        "y_trans = Compose([AsDiscrete(to_onehot=num_class)])"
      ],
      "metadata": {
        "id": "PaDBjilIeN5W"
      },
      "execution_count": 10,
      "outputs": []
    },
    {
      "cell_type": "code",
      "source": [
        "class MedNISTDataset(torch.utils.data.Dataset):\n",
        "    def __init__(self, image_files, labels, transforms):\n",
        "        self.image_files = image_files\n",
        "        self.labels = labels\n",
        "        self.transforms = transforms\n",
        "\n",
        "    def __len__(self):\n",
        "        return len(self.image_files)\n",
        "\n",
        "    def __getitem__(self, index):\n",
        "        return self.transforms(self.image_files[index]), self.labels[index]\n",
        "\n",
        "\n",
        "train_ds = MedNISTDataset(train_x, train_y, train_transforms)\n",
        "train_loader = DataLoader(train_ds, batch_size=300, shuffle=True, num_workers=10)\n",
        "\n",
        "val_ds = MedNISTDataset(val_x, val_y, val_transforms)\n",
        "val_loader = DataLoader(val_ds, batch_size=300, num_workers=10)\n",
        "\n",
        "test_ds = MedNISTDataset(test_x, test_y, val_transforms)\n",
        "test_loader = DataLoader(test_ds, batch_size=300, num_workers=10)"
      ],
      "metadata": {
        "colab": {
          "base_uri": "https://localhost:8080/"
        },
        "id": "_sF7lcoLecjM",
        "outputId": "d9552906-c267-49f6-8c0c-2641a9f5d3c1"
      },
      "execution_count": 11,
      "outputs": [
        {
          "output_type": "stream",
          "name": "stderr",
          "text": [
            "/usr/local/lib/python3.11/dist-packages/torch/utils/data/dataloader.py:624: UserWarning: This DataLoader will create 10 worker processes in total. Our suggested max number of worker in current system is 2, which is smaller than what this DataLoader is going to create. Please be aware that excessive worker creation might get DataLoader running slow or even freeze, lower the worker number to avoid potential slowness/freeze if necessary.\n",
            "  warnings.warn(\n"
          ]
        }
      ]
    },
    {
      "cell_type": "markdown",
      "source": [
        "Define network and optimizer\n",
        "Set learning rate for how much the model is updated per batch.\n",
        "Set total epoch number, as we have shuffle and random transforms, so the training data of every epoch is different.\n",
        "And as this is just a get start tutorial, let's just train 4 epochs.\n",
        "If train 10 epochs, the model can achieve 100% accuracy on test dataset.\n",
        "Use DenseNet from MONAI and move to GPU device, this DenseNet can support both 2D and 3D classification tasks.\n",
        "Use Adam optimizer."
      ],
      "metadata": {
        "id": "iiJPlgnvRJmX"
      }
    },
    {
      "cell_type": "code",
      "source": [
        "device = torch.device(\"cuda\" if torch.cuda.is_available() else \"cpu\")\n",
        "model = DenseNet121(spatial_dims=2, in_channels=1, out_channels=num_class).to(device)\n",
        "loss_function = torch.nn.CrossEntropyLoss()\n",
        "optimizer = torch.optim.Adam(model.parameters(), 1e-5)\n",
        "max_epochs = 4\n",
        "val_interval = 1\n",
        "auc_metric = ROCAUCMetric()"
      ],
      "metadata": {
        "id": "CUVG2UuEeetG"
      },
      "execution_count": 12,
      "outputs": []
    },
    {
      "cell_type": "markdown",
      "source": [
        "Model training\n",
        "Execute a typical PyTorch training that run epoch loop and step loop, and do validation after every epoch.\n",
        "Will save the model weights to file if got best validation accuracy."
      ],
      "metadata": {
        "id": "fmpM3uTGRNI7"
      }
    },
    {
      "cell_type": "code",
      "source": [
        "best_metric = -1\n",
        "best_metric_epoch = -1\n",
        "epoch_loss_values = []\n",
        "metric_values = []\n",
        "writer = SummaryWriter()\n",
        "\n",
        "for epoch in range(max_epochs):\n",
        "    print(\"-\" * 10)\n",
        "    print(f\"epoch {epoch + 1}/{max_epochs}\")\n",
        "    model.train()\n",
        "    epoch_loss = 0\n",
        "    step = 0\n",
        "    for batch_data in train_loader:\n",
        "        step += 1\n",
        "        inputs, labels = batch_data[0].to(device), batch_data[1].to(device)\n",
        "        optimizer.zero_grad()\n",
        "        outputs = model(inputs)\n",
        "        loss = loss_function(outputs, labels)\n",
        "        loss.backward()\n",
        "        optimizer.step()\n",
        "        epoch_loss += loss.item()\n",
        "        print(f\"{step}/{len(train_ds) // train_loader.batch_size}, \" f\"train_loss: {loss.item():.4f}\")\n",
        "        epoch_len = len(train_ds) // train_loader.batch_size\n",
        "        writer.add_scalar(\"train_loss\", loss.item(), epoch_len * epoch + step)\n",
        "    epoch_loss /= step\n",
        "    epoch_loss_values.append(epoch_loss)\n",
        "    print(f\"epoch {epoch + 1} average loss: {epoch_loss:.4f}\")\n",
        "\n",
        "    if (epoch + 1) % val_interval == 0:\n",
        "        model.eval()\n",
        "        with torch.no_grad():\n",
        "            y_pred = torch.tensor([], dtype=torch.float32, device=device)\n",
        "            y = torch.tensor([], dtype=torch.long, device=device)\n",
        "            for val_data in val_loader:\n",
        "                val_images, val_labels = (\n",
        "                    val_data[0].to(device),\n",
        "                    val_data[1].to(device),\n",
        "                )\n",
        "                y_pred = torch.cat([y_pred, model(val_images)], dim=0)\n",
        "                y = torch.cat([y, val_labels], dim=0)\n",
        "            y_onehot = [y_trans(i) for i in decollate_batch(y, detach=False)]\n",
        "            y_pred_act = [y_pred_trans(i) for i in decollate_batch(y_pred)]\n",
        "            auc_metric(y_pred_act, y_onehot)\n",
        "            result = auc_metric.aggregate()\n",
        "            auc_metric.reset()\n",
        "            del y_pred_act, y_onehot\n",
        "            metric_values.append(result)\n",
        "            acc_value = torch.eq(y_pred.argmax(dim=1), y)\n",
        "            acc_metric = acc_value.sum().item() / len(acc_value)\n",
        "            if result > best_metric:\n",
        "                best_metric = result\n",
        "                best_metric_epoch = epoch + 1\n",
        "                torch.save(model.state_dict(), os.path.join(root_dir, \"best_metric_model.pth\"))\n",
        "                print(\"saved new best metric model\")\n",
        "            print(\n",
        "                f\"current epoch: {epoch + 1} current AUC: {result:.4f}\"\n",
        "                f\" current accuracy: {acc_metric:.4f}\"\n",
        "                f\" best AUC: {best_metric:.4f}\"\n",
        "                f\" at epoch: {best_metric_epoch}\"\n",
        "            )\n",
        "            writer.add_scalar(\"val_accuracy\", acc_metric, epoch + 1)\n",
        "\n",
        "print(f\"train completed, best_metric: {best_metric:.4f} \" f\"at epoch: {best_metric_epoch}\")\n",
        "writer.close()"
      ],
      "metadata": {
        "colab": {
          "base_uri": "https://localhost:8080/"
        },
        "id": "mzvhQz6semzI",
        "outputId": "277087b1-4f5b-4b7f-ebce-e0a82c063985"
      },
      "execution_count": 13,
      "outputs": [
        {
          "output_type": "stream",
          "name": "stdout",
          "text": [
            "----------\n",
            "epoch 1/4\n",
            "1/157, train_loss: 1.7984\n",
            "2/157, train_loss: 1.7464\n",
            "3/157, train_loss: 1.7419\n",
            "4/157, train_loss: 1.7237\n",
            "5/157, train_loss: 1.6872\n",
            "6/157, train_loss: 1.6540\n",
            "7/157, train_loss: 1.6107\n",
            "8/157, train_loss: 1.5920\n",
            "9/157, train_loss: 1.5809\n",
            "10/157, train_loss: 1.5624\n",
            "11/157, train_loss: 1.5339\n",
            "12/157, train_loss: 1.5089\n",
            "13/157, train_loss: 1.4880\n",
            "14/157, train_loss: 1.4602\n",
            "15/157, train_loss: 1.4458\n",
            "16/157, train_loss: 1.4372\n",
            "17/157, train_loss: 1.4179\n",
            "18/157, train_loss: 1.3882\n",
            "19/157, train_loss: 1.3413\n",
            "20/157, train_loss: 1.3568\n",
            "21/157, train_loss: 1.3113\n",
            "22/157, train_loss: 1.3033\n",
            "23/157, train_loss: 1.2816\n",
            "24/157, train_loss: 1.2565\n",
            "25/157, train_loss: 1.2713\n",
            "26/157, train_loss: 1.2415\n",
            "27/157, train_loss: 1.2065\n",
            "28/157, train_loss: 1.1955\n",
            "29/157, train_loss: 1.1637\n",
            "30/157, train_loss: 1.1580\n",
            "31/157, train_loss: 1.1319\n",
            "32/157, train_loss: 1.1263\n",
            "33/157, train_loss: 1.1185\n",
            "34/157, train_loss: 1.0914\n",
            "35/157, train_loss: 1.0865\n",
            "36/157, train_loss: 1.0739\n",
            "37/157, train_loss: 1.0336\n",
            "38/157, train_loss: 1.0354\n",
            "39/157, train_loss: 1.0152\n",
            "40/157, train_loss: 1.0376\n",
            "41/157, train_loss: 1.0224\n",
            "42/157, train_loss: 0.9688\n",
            "43/157, train_loss: 0.9625\n",
            "44/157, train_loss: 0.9735\n",
            "45/157, train_loss: 0.9385\n",
            "46/157, train_loss: 0.9170\n",
            "47/157, train_loss: 0.9054\n",
            "48/157, train_loss: 0.8549\n",
            "49/157, train_loss: 0.9153\n",
            "50/157, train_loss: 0.8954\n",
            "51/157, train_loss: 0.8528\n",
            "52/157, train_loss: 0.9010\n",
            "53/157, train_loss: 0.8381\n",
            "54/157, train_loss: 0.8356\n",
            "55/157, train_loss: 0.8163\n",
            "56/157, train_loss: 0.8170\n",
            "57/157, train_loss: 0.8242\n",
            "58/157, train_loss: 0.7874\n",
            "59/157, train_loss: 0.8142\n",
            "60/157, train_loss: 0.8023\n",
            "61/157, train_loss: 0.7569\n",
            "62/157, train_loss: 0.7385\n",
            "63/157, train_loss: 0.7644\n",
            "64/157, train_loss: 0.7243\n",
            "65/157, train_loss: 0.7147\n",
            "66/157, train_loss: 0.7320\n",
            "67/157, train_loss: 0.7097\n",
            "68/157, train_loss: 0.6639\n",
            "69/157, train_loss: 0.6880\n",
            "70/157, train_loss: 0.6224\n",
            "71/157, train_loss: 0.6542\n",
            "72/157, train_loss: 0.6621\n",
            "73/157, train_loss: 0.6647\n",
            "74/157, train_loss: 0.6098\n",
            "75/157, train_loss: 0.6043\n",
            "76/157, train_loss: 0.6545\n",
            "77/157, train_loss: 0.5988\n",
            "78/157, train_loss: 0.6042\n",
            "79/157, train_loss: 0.6165\n",
            "80/157, train_loss: 0.6097\n",
            "81/157, train_loss: 0.5761\n",
            "82/157, train_loss: 0.5850\n",
            "83/157, train_loss: 0.5722\n",
            "84/157, train_loss: 0.5602\n",
            "85/157, train_loss: 0.6051\n",
            "86/157, train_loss: 0.5493\n",
            "87/157, train_loss: 0.5419\n",
            "88/157, train_loss: 0.5644\n",
            "89/157, train_loss: 0.4927\n",
            "90/157, train_loss: 0.5032\n",
            "91/157, train_loss: 0.5295\n",
            "92/157, train_loss: 0.5076\n",
            "93/157, train_loss: 0.4684\n",
            "94/157, train_loss: 0.4817\n",
            "95/157, train_loss: 0.4566\n",
            "96/157, train_loss: 0.4560\n",
            "97/157, train_loss: 0.4919\n",
            "98/157, train_loss: 0.4813\n",
            "99/157, train_loss: 0.4594\n",
            "100/157, train_loss: 0.4307\n",
            "101/157, train_loss: 0.4780\n",
            "102/157, train_loss: 0.4639\n",
            "103/157, train_loss: 0.4233\n",
            "104/157, train_loss: 0.4272\n",
            "105/157, train_loss: 0.4547\n",
            "106/157, train_loss: 0.4372\n",
            "107/157, train_loss: 0.4136\n",
            "108/157, train_loss: 0.4492\n",
            "109/157, train_loss: 0.4753\n",
            "110/157, train_loss: 0.3747\n",
            "111/157, train_loss: 0.3877\n",
            "112/157, train_loss: 0.3926\n",
            "113/157, train_loss: 0.3909\n",
            "114/157, train_loss: 0.3926\n",
            "115/157, train_loss: 0.3491\n",
            "116/157, train_loss: 0.3579\n",
            "117/157, train_loss: 0.3691\n",
            "118/157, train_loss: 0.3884\n",
            "119/157, train_loss: 0.3514\n",
            "120/157, train_loss: 0.3590\n",
            "121/157, train_loss: 0.3624\n",
            "122/157, train_loss: 0.3945\n",
            "123/157, train_loss: 0.3333\n",
            "124/157, train_loss: 0.3574\n",
            "125/157, train_loss: 0.3658\n",
            "126/157, train_loss: 0.3224\n",
            "127/157, train_loss: 0.3123\n",
            "128/157, train_loss: 0.3457\n",
            "129/157, train_loss: 0.3486\n",
            "130/157, train_loss: 0.3039\n",
            "131/157, train_loss: 0.3039\n",
            "132/157, train_loss: 0.3049\n",
            "133/157, train_loss: 0.2812\n",
            "134/157, train_loss: 0.3508\n",
            "135/157, train_loss: 0.2970\n",
            "136/157, train_loss: 0.2907\n",
            "137/157, train_loss: 0.3496\n",
            "138/157, train_loss: 0.2831\n",
            "139/157, train_loss: 0.2905\n",
            "140/157, train_loss: 0.3004\n",
            "141/157, train_loss: 0.2807\n",
            "142/157, train_loss: 0.3060\n",
            "143/157, train_loss: 0.2899\n",
            "144/157, train_loss: 0.3216\n",
            "145/157, train_loss: 0.2667\n",
            "146/157, train_loss: 0.2439\n",
            "147/157, train_loss: 0.2425\n",
            "148/157, train_loss: 0.2415\n",
            "149/157, train_loss: 0.2510\n",
            "150/157, train_loss: 0.2289\n",
            "151/157, train_loss: 0.2649\n",
            "152/157, train_loss: 0.2565\n",
            "153/157, train_loss: 0.2438\n",
            "154/157, train_loss: 0.2593\n",
            "155/157, train_loss: 0.2689\n",
            "156/157, train_loss: 0.2628\n",
            "157/157, train_loss: 0.2250\n",
            "158/157, train_loss: 0.3354\n",
            "epoch 1 average loss: 0.7278\n",
            "saved new best metric model\n",
            "current epoch: 1 current AUC: 0.9975 current accuracy: 0.9557 best AUC: 0.9975 at epoch: 1\n",
            "----------\n",
            "epoch 2/4\n",
            "1/157, train_loss: 0.2194\n",
            "2/157, train_loss: 0.2151\n",
            "3/157, train_loss: 0.2610\n",
            "4/157, train_loss: 0.2580\n",
            "5/157, train_loss: 0.2509\n",
            "6/157, train_loss: 0.2117\n",
            "7/157, train_loss: 0.2123\n",
            "8/157, train_loss: 0.2122\n",
            "9/157, train_loss: 0.2312\n",
            "10/157, train_loss: 0.2188\n",
            "11/157, train_loss: 0.2029\n",
            "12/157, train_loss: 0.2052\n",
            "13/157, train_loss: 0.2196\n",
            "14/157, train_loss: 0.2122\n",
            "15/157, train_loss: 0.1987\n",
            "16/157, train_loss: 0.1797\n",
            "17/157, train_loss: 0.1990\n",
            "18/157, train_loss: 0.2247\n",
            "19/157, train_loss: 0.2460\n",
            "20/157, train_loss: 0.2127\n",
            "21/157, train_loss: 0.2176\n",
            "22/157, train_loss: 0.2111\n",
            "23/157, train_loss: 0.1789\n",
            "24/157, train_loss: 0.1867\n",
            "25/157, train_loss: 0.2035\n",
            "26/157, train_loss: 0.2247\n",
            "27/157, train_loss: 0.2213\n",
            "28/157, train_loss: 0.1822\n",
            "29/157, train_loss: 0.1881\n",
            "30/157, train_loss: 0.1782\n",
            "31/157, train_loss: 0.2233\n",
            "32/157, train_loss: 0.1776\n",
            "33/157, train_loss: 0.1721\n",
            "34/157, train_loss: 0.1762\n",
            "35/157, train_loss: 0.1574\n",
            "36/157, train_loss: 0.1919\n",
            "37/157, train_loss: 0.1952\n",
            "38/157, train_loss: 0.1827\n",
            "39/157, train_loss: 0.1769\n",
            "40/157, train_loss: 0.1767\n",
            "41/157, train_loss: 0.1797\n",
            "42/157, train_loss: 0.1631\n",
            "43/157, train_loss: 0.1901\n",
            "44/157, train_loss: 0.1709\n",
            "45/157, train_loss: 0.1507\n",
            "46/157, train_loss: 0.1601\n",
            "47/157, train_loss: 0.1583\n",
            "48/157, train_loss: 0.1737\n",
            "49/157, train_loss: 0.1553\n",
            "50/157, train_loss: 0.1728\n",
            "51/157, train_loss: 0.1733\n",
            "52/157, train_loss: 0.1377\n",
            "53/157, train_loss: 0.1446\n",
            "54/157, train_loss: 0.1912\n",
            "55/157, train_loss: 0.1547\n",
            "56/157, train_loss: 0.1662\n",
            "57/157, train_loss: 0.1704\n",
            "58/157, train_loss: 0.1491\n",
            "59/157, train_loss: 0.1473\n",
            "60/157, train_loss: 0.1624\n",
            "61/157, train_loss: 0.1325\n",
            "62/157, train_loss: 0.1372\n",
            "63/157, train_loss: 0.1396\n",
            "64/157, train_loss: 0.1335\n",
            "65/157, train_loss: 0.1416\n",
            "66/157, train_loss: 0.1267\n",
            "67/157, train_loss: 0.1403\n",
            "68/157, train_loss: 0.1210\n",
            "69/157, train_loss: 0.1634\n",
            "70/157, train_loss: 0.1253\n",
            "71/157, train_loss: 0.1209\n",
            "72/157, train_loss: 0.1532\n",
            "73/157, train_loss: 0.1434\n",
            "74/157, train_loss: 0.1270\n",
            "75/157, train_loss: 0.1590\n",
            "76/157, train_loss: 0.1299\n",
            "77/157, train_loss: 0.1144\n",
            "78/157, train_loss: 0.1558\n",
            "79/157, train_loss: 0.1347\n",
            "80/157, train_loss: 0.1407\n",
            "81/157, train_loss: 0.1285\n",
            "82/157, train_loss: 0.1236\n",
            "83/157, train_loss: 0.1147\n",
            "84/157, train_loss: 0.1120\n",
            "85/157, train_loss: 0.1178\n",
            "86/157, train_loss: 0.1736\n",
            "87/157, train_loss: 0.1274\n",
            "88/157, train_loss: 0.1406\n",
            "89/157, train_loss: 0.1235\n",
            "90/157, train_loss: 0.1351\n",
            "91/157, train_loss: 0.1068\n",
            "92/157, train_loss: 0.1302\n",
            "93/157, train_loss: 0.0914\n",
            "94/157, train_loss: 0.1394\n",
            "95/157, train_loss: 0.1202\n",
            "96/157, train_loss: 0.1240\n",
            "97/157, train_loss: 0.1125\n",
            "98/157, train_loss: 0.0999\n",
            "99/157, train_loss: 0.1112\n",
            "100/157, train_loss: 0.0860\n",
            "101/157, train_loss: 0.1075\n",
            "102/157, train_loss: 0.1254\n",
            "103/157, train_loss: 0.1030\n",
            "104/157, train_loss: 0.1012\n",
            "105/157, train_loss: 0.1089\n",
            "106/157, train_loss: 0.1447\n",
            "107/157, train_loss: 0.1415\n",
            "108/157, train_loss: 0.0950\n",
            "109/157, train_loss: 0.1235\n",
            "110/157, train_loss: 0.1037\n",
            "111/157, train_loss: 0.1020\n",
            "112/157, train_loss: 0.1069\n",
            "113/157, train_loss: 0.1360\n",
            "114/157, train_loss: 0.1063\n",
            "115/157, train_loss: 0.0989\n",
            "116/157, train_loss: 0.0955\n",
            "117/157, train_loss: 0.1217\n",
            "118/157, train_loss: 0.1239\n",
            "119/157, train_loss: 0.0911\n",
            "120/157, train_loss: 0.0924\n",
            "121/157, train_loss: 0.1136\n",
            "122/157, train_loss: 0.0872\n",
            "123/157, train_loss: 0.1130\n",
            "124/157, train_loss: 0.0976\n",
            "125/157, train_loss: 0.1067\n",
            "126/157, train_loss: 0.1194\n",
            "127/157, train_loss: 0.1093\n",
            "128/157, train_loss: 0.1113\n",
            "129/157, train_loss: 0.1026\n",
            "130/157, train_loss: 0.0949\n",
            "131/157, train_loss: 0.0967\n",
            "132/157, train_loss: 0.0952\n",
            "133/157, train_loss: 0.0988\n",
            "134/157, train_loss: 0.0947\n",
            "135/157, train_loss: 0.0893\n",
            "136/157, train_loss: 0.0887\n",
            "137/157, train_loss: 0.0894\n",
            "138/157, train_loss: 0.1395\n",
            "139/157, train_loss: 0.0875\n",
            "140/157, train_loss: 0.0724\n",
            "141/157, train_loss: 0.1071\n",
            "142/157, train_loss: 0.0968\n",
            "143/157, train_loss: 0.0773\n",
            "144/157, train_loss: 0.1004\n",
            "145/157, train_loss: 0.1036\n",
            "146/157, train_loss: 0.0892\n",
            "147/157, train_loss: 0.0855\n",
            "148/157, train_loss: 0.1002\n",
            "149/157, train_loss: 0.0841\n",
            "150/157, train_loss: 0.0992\n",
            "151/157, train_loss: 0.0942\n",
            "152/157, train_loss: 0.1230\n",
            "153/157, train_loss: 0.0857\n",
            "154/157, train_loss: 0.1009\n",
            "155/157, train_loss: 0.1081\n",
            "156/157, train_loss: 0.1032\n",
            "157/157, train_loss: 0.0820\n",
            "158/157, train_loss: 0.1229\n",
            "epoch 2 average loss: 0.1433\n",
            "saved new best metric model\n",
            "current epoch: 2 current AUC: 0.9997 current accuracy: 0.9863 best AUC: 0.9997 at epoch: 2\n",
            "----------\n",
            "epoch 3/4\n",
            "1/157, train_loss: 0.0818\n",
            "2/157, train_loss: 0.0989\n",
            "3/157, train_loss: 0.0722\n",
            "4/157, train_loss: 0.0882\n",
            "5/157, train_loss: 0.1058\n",
            "6/157, train_loss: 0.0796\n",
            "7/157, train_loss: 0.0875\n",
            "8/157, train_loss: 0.0964\n",
            "9/157, train_loss: 0.0808\n",
            "10/157, train_loss: 0.0935\n",
            "11/157, train_loss: 0.1078\n",
            "12/157, train_loss: 0.1013\n",
            "13/157, train_loss: 0.0755\n",
            "14/157, train_loss: 0.0771\n",
            "15/157, train_loss: 0.0821\n",
            "16/157, train_loss: 0.0793\n",
            "17/157, train_loss: 0.0881\n",
            "18/157, train_loss: 0.0725\n",
            "19/157, train_loss: 0.0836\n",
            "20/157, train_loss: 0.0835\n",
            "21/157, train_loss: 0.0950\n",
            "22/157, train_loss: 0.0712\n",
            "23/157, train_loss: 0.0988\n",
            "24/157, train_loss: 0.0650\n",
            "25/157, train_loss: 0.1238\n",
            "26/157, train_loss: 0.0894\n",
            "27/157, train_loss: 0.0775\n",
            "28/157, train_loss: 0.0580\n",
            "29/157, train_loss: 0.0914\n",
            "30/157, train_loss: 0.0705\n",
            "31/157, train_loss: 0.0751\n",
            "32/157, train_loss: 0.0739\n",
            "33/157, train_loss: 0.0746\n",
            "34/157, train_loss: 0.1015\n",
            "35/157, train_loss: 0.0619\n",
            "36/157, train_loss: 0.0709\n",
            "37/157, train_loss: 0.0742\n",
            "38/157, train_loss: 0.0531\n",
            "39/157, train_loss: 0.0695\n",
            "40/157, train_loss: 0.0684\n",
            "41/157, train_loss: 0.0473\n",
            "42/157, train_loss: 0.0840\n",
            "43/157, train_loss: 0.0793\n",
            "44/157, train_loss: 0.0563\n",
            "45/157, train_loss: 0.0996\n",
            "46/157, train_loss: 0.0555\n",
            "47/157, train_loss: 0.0805\n",
            "48/157, train_loss: 0.0764\n",
            "49/157, train_loss: 0.0840\n",
            "50/157, train_loss: 0.0656\n",
            "51/157, train_loss: 0.0637\n",
            "52/157, train_loss: 0.0695\n",
            "53/157, train_loss: 0.0700\n",
            "54/157, train_loss: 0.0470\n",
            "55/157, train_loss: 0.0705\n",
            "56/157, train_loss: 0.0806\n",
            "57/157, train_loss: 0.0664\n",
            "58/157, train_loss: 0.0588\n",
            "59/157, train_loss: 0.0956\n",
            "60/157, train_loss: 0.0771\n",
            "61/157, train_loss: 0.0710\n",
            "62/157, train_loss: 0.0769\n",
            "63/157, train_loss: 0.0598\n",
            "64/157, train_loss: 0.0498\n",
            "65/157, train_loss: 0.0732\n",
            "66/157, train_loss: 0.0643\n",
            "67/157, train_loss: 0.0652\n",
            "68/157, train_loss: 0.0687\n",
            "69/157, train_loss: 0.0651\n",
            "70/157, train_loss: 0.0734\n",
            "71/157, train_loss: 0.0599\n",
            "72/157, train_loss: 0.0568\n",
            "73/157, train_loss: 0.0706\n",
            "74/157, train_loss: 0.0659\n",
            "75/157, train_loss: 0.0569\n",
            "76/157, train_loss: 0.0507\n",
            "77/157, train_loss: 0.0481\n",
            "78/157, train_loss: 0.0560\n",
            "79/157, train_loss: 0.0534\n",
            "80/157, train_loss: 0.0625\n",
            "81/157, train_loss: 0.0707\n",
            "82/157, train_loss: 0.0595\n",
            "83/157, train_loss: 0.0705\n",
            "84/157, train_loss: 0.0429\n",
            "85/157, train_loss: 0.0606\n",
            "86/157, train_loss: 0.0774\n",
            "87/157, train_loss: 0.0738\n",
            "88/157, train_loss: 0.0515\n",
            "89/157, train_loss: 0.0467\n",
            "90/157, train_loss: 0.0628\n",
            "91/157, train_loss: 0.0465\n",
            "92/157, train_loss: 0.0568\n",
            "93/157, train_loss: 0.0646\n",
            "94/157, train_loss: 0.0484\n",
            "95/157, train_loss: 0.0672\n",
            "96/157, train_loss: 0.0585\n",
            "97/157, train_loss: 0.0653\n",
            "98/157, train_loss: 0.0589\n",
            "99/157, train_loss: 0.0581\n",
            "100/157, train_loss: 0.0632\n",
            "101/157, train_loss: 0.0478\n",
            "102/157, train_loss: 0.0758\n",
            "103/157, train_loss: 0.0441\n",
            "104/157, train_loss: 0.0632\n",
            "105/157, train_loss: 0.0665\n",
            "106/157, train_loss: 0.0543\n",
            "107/157, train_loss: 0.0463\n",
            "108/157, train_loss: 0.0608\n",
            "109/157, train_loss: 0.0750\n",
            "110/157, train_loss: 0.0592\n",
            "111/157, train_loss: 0.0442\n",
            "112/157, train_loss: 0.0685\n",
            "113/157, train_loss: 0.0398\n",
            "114/157, train_loss: 0.0746\n",
            "115/157, train_loss: 0.0556\n",
            "116/157, train_loss: 0.0414\n",
            "117/157, train_loss: 0.0598\n",
            "118/157, train_loss: 0.0562\n",
            "119/157, train_loss: 0.0417\n",
            "120/157, train_loss: 0.0527\n",
            "121/157, train_loss: 0.0442\n",
            "122/157, train_loss: 0.0509\n",
            "123/157, train_loss: 0.0732\n",
            "124/157, train_loss: 0.0606\n",
            "125/157, train_loss: 0.0542\n",
            "126/157, train_loss: 0.0525\n",
            "127/157, train_loss: 0.0530\n",
            "128/157, train_loss: 0.0610\n",
            "129/157, train_loss: 0.0715\n",
            "130/157, train_loss: 0.0464\n",
            "131/157, train_loss: 0.0539\n",
            "132/157, train_loss: 0.0653\n",
            "133/157, train_loss: 0.0493\n",
            "134/157, train_loss: 0.0546\n",
            "135/157, train_loss: 0.0455\n",
            "136/157, train_loss: 0.0466\n",
            "137/157, train_loss: 0.0342\n",
            "138/157, train_loss: 0.0557\n",
            "139/157, train_loss: 0.0421\n",
            "140/157, train_loss: 0.0561\n",
            "141/157, train_loss: 0.0398\n",
            "142/157, train_loss: 0.0569\n",
            "143/157, train_loss: 0.0605\n",
            "144/157, train_loss: 0.0435\n",
            "145/157, train_loss: 0.0436\n",
            "146/157, train_loss: 0.0338\n",
            "147/157, train_loss: 0.0595\n",
            "148/157, train_loss: 0.0816\n",
            "149/157, train_loss: 0.0376\n",
            "150/157, train_loss: 0.0614\n",
            "151/157, train_loss: 0.0453\n",
            "152/157, train_loss: 0.0354\n",
            "153/157, train_loss: 0.0423\n",
            "154/157, train_loss: 0.0314\n",
            "155/157, train_loss: 0.0555\n",
            "156/157, train_loss: 0.0498\n",
            "157/157, train_loss: 0.0448\n",
            "158/157, train_loss: 0.0412\n",
            "epoch 3 average loss: 0.0648\n",
            "saved new best metric model\n",
            "current epoch: 3 current AUC: 0.9999 current accuracy: 0.9925 best AUC: 0.9999 at epoch: 3\n",
            "----------\n",
            "epoch 4/4\n",
            "1/157, train_loss: 0.0388\n",
            "2/157, train_loss: 0.0754\n",
            "3/157, train_loss: 0.0479\n",
            "4/157, train_loss: 0.0525\n",
            "5/157, train_loss: 0.0422\n",
            "6/157, train_loss: 0.0344\n",
            "7/157, train_loss: 0.0630\n",
            "8/157, train_loss: 0.0297\n",
            "9/157, train_loss: 0.0338\n",
            "10/157, train_loss: 0.0411\n",
            "11/157, train_loss: 0.0400\n",
            "12/157, train_loss: 0.0403\n",
            "13/157, train_loss: 0.0394\n",
            "14/157, train_loss: 0.0373\n",
            "15/157, train_loss: 0.0541\n",
            "16/157, train_loss: 0.0383\n",
            "17/157, train_loss: 0.0432\n",
            "18/157, train_loss: 0.0565\n",
            "19/157, train_loss: 0.0295\n",
            "20/157, train_loss: 0.0541\n",
            "21/157, train_loss: 0.0466\n",
            "22/157, train_loss: 0.0534\n",
            "23/157, train_loss: 0.0434\n",
            "24/157, train_loss: 0.0387\n",
            "25/157, train_loss: 0.0374\n",
            "26/157, train_loss: 0.0419\n",
            "27/157, train_loss: 0.0392\n",
            "28/157, train_loss: 0.0491\n",
            "29/157, train_loss: 0.0497\n",
            "30/157, train_loss: 0.0437\n",
            "31/157, train_loss: 0.0419\n",
            "32/157, train_loss: 0.0472\n",
            "33/157, train_loss: 0.0566\n",
            "34/157, train_loss: 0.0422\n",
            "35/157, train_loss: 0.0485\n",
            "36/157, train_loss: 0.0428\n",
            "37/157, train_loss: 0.0399\n",
            "38/157, train_loss: 0.0626\n",
            "39/157, train_loss: 0.0397\n",
            "40/157, train_loss: 0.0314\n",
            "41/157, train_loss: 0.0261\n",
            "42/157, train_loss: 0.0448\n",
            "43/157, train_loss: 0.0325\n",
            "44/157, train_loss: 0.0278\n",
            "45/157, train_loss: 0.0334\n",
            "46/157, train_loss: 0.0380\n",
            "47/157, train_loss: 0.0529\n",
            "48/157, train_loss: 0.0342\n",
            "49/157, train_loss: 0.0567\n",
            "50/157, train_loss: 0.0241\n",
            "51/157, train_loss: 0.0431\n",
            "52/157, train_loss: 0.0404\n",
            "53/157, train_loss: 0.0473\n",
            "54/157, train_loss: 0.0354\n",
            "55/157, train_loss: 0.0435\n",
            "56/157, train_loss: 0.0609\n",
            "57/157, train_loss: 0.0279\n",
            "58/157, train_loss: 0.0300\n",
            "59/157, train_loss: 0.0459\n",
            "60/157, train_loss: 0.0452\n",
            "61/157, train_loss: 0.0323\n",
            "62/157, train_loss: 0.0425\n",
            "63/157, train_loss: 0.0569\n",
            "64/157, train_loss: 0.0295\n",
            "65/157, train_loss: 0.0324\n",
            "66/157, train_loss: 0.0372\n",
            "67/157, train_loss: 0.0516\n",
            "68/157, train_loss: 0.0331\n",
            "69/157, train_loss: 0.0324\n",
            "70/157, train_loss: 0.0271\n",
            "71/157, train_loss: 0.0709\n",
            "72/157, train_loss: 0.0628\n",
            "73/157, train_loss: 0.0399\n",
            "74/157, train_loss: 0.0272\n",
            "75/157, train_loss: 0.0271\n",
            "76/157, train_loss: 0.0538\n",
            "77/157, train_loss: 0.0263\n",
            "78/157, train_loss: 0.0305\n",
            "79/157, train_loss: 0.0298\n",
            "80/157, train_loss: 0.0407\n",
            "81/157, train_loss: 0.0355\n",
            "82/157, train_loss: 0.0466\n",
            "83/157, train_loss: 0.0296\n",
            "84/157, train_loss: 0.0422\n",
            "85/157, train_loss: 0.0436\n",
            "86/157, train_loss: 0.0288\n",
            "87/157, train_loss: 0.0232\n",
            "88/157, train_loss: 0.0286\n",
            "89/157, train_loss: 0.0400\n",
            "90/157, train_loss: 0.0478\n",
            "91/157, train_loss: 0.0362\n",
            "92/157, train_loss: 0.0743\n",
            "93/157, train_loss: 0.0444\n",
            "94/157, train_loss: 0.0322\n",
            "95/157, train_loss: 0.0307\n",
            "96/157, train_loss: 0.0263\n",
            "97/157, train_loss: 0.0654\n",
            "98/157, train_loss: 0.0512\n",
            "99/157, train_loss: 0.0346\n",
            "100/157, train_loss: 0.0328\n",
            "101/157, train_loss: 0.0300\n",
            "102/157, train_loss: 0.0251\n",
            "103/157, train_loss: 0.0484\n",
            "104/157, train_loss: 0.0205\n",
            "105/157, train_loss: 0.0429\n",
            "106/157, train_loss: 0.0366\n",
            "107/157, train_loss: 0.0324\n",
            "108/157, train_loss: 0.0292\n",
            "109/157, train_loss: 0.0448\n",
            "110/157, train_loss: 0.0461\n",
            "111/157, train_loss: 0.0244\n",
            "112/157, train_loss: 0.0386\n",
            "113/157, train_loss: 0.0327\n",
            "114/157, train_loss: 0.0278\n",
            "115/157, train_loss: 0.0247\n",
            "116/157, train_loss: 0.0192\n",
            "117/157, train_loss: 0.0235\n",
            "118/157, train_loss: 0.0276\n",
            "119/157, train_loss: 0.0356\n",
            "120/157, train_loss: 0.0417\n",
            "121/157, train_loss: 0.0357\n",
            "122/157, train_loss: 0.0425\n",
            "123/157, train_loss: 0.0458\n",
            "124/157, train_loss: 0.0252\n",
            "125/157, train_loss: 0.0276\n",
            "126/157, train_loss: 0.0299\n",
            "127/157, train_loss: 0.0456\n",
            "128/157, train_loss: 0.0309\n",
            "129/157, train_loss: 0.0416\n",
            "130/157, train_loss: 0.0306\n",
            "131/157, train_loss: 0.0293\n",
            "132/157, train_loss: 0.0313\n",
            "133/157, train_loss: 0.0364\n",
            "134/157, train_loss: 0.0284\n",
            "135/157, train_loss: 0.0339\n",
            "136/157, train_loss: 0.0354\n",
            "137/157, train_loss: 0.0236\n",
            "138/157, train_loss: 0.0355\n",
            "139/157, train_loss: 0.0552\n",
            "140/157, train_loss: 0.0308\n",
            "141/157, train_loss: 0.0178\n",
            "142/157, train_loss: 0.0318\n",
            "143/157, train_loss: 0.0309\n",
            "144/157, train_loss: 0.0316\n",
            "145/157, train_loss: 0.0396\n",
            "146/157, train_loss: 0.0197\n",
            "147/157, train_loss: 0.0281\n",
            "148/157, train_loss: 0.0388\n",
            "149/157, train_loss: 0.0184\n",
            "150/157, train_loss: 0.0255\n",
            "151/157, train_loss: 0.0342\n",
            "152/157, train_loss: 0.0272\n",
            "153/157, train_loss: 0.0258\n",
            "154/157, train_loss: 0.0258\n",
            "155/157, train_loss: 0.0544\n",
            "156/157, train_loss: 0.0351\n",
            "157/157, train_loss: 0.0279\n",
            "158/157, train_loss: 0.0241\n",
            "epoch 4 average loss: 0.0382\n",
            "saved new best metric model\n",
            "current epoch: 4 current AUC: 1.0000 current accuracy: 0.9947 best AUC: 1.0000 at epoch: 4\n",
            "train completed, best_metric: 1.0000 at epoch: 4\n"
          ]
        }
      ]
    },
    {
      "cell_type": "markdown",
      "source": [
        "Plot the loss and metric"
      ],
      "metadata": {
        "id": "nGIUg0EURTyu"
      }
    },
    {
      "cell_type": "code",
      "source": [
        "plt.figure(\"train\", (12, 6))\n",
        "plt.subplot(1, 2, 1)\n",
        "plt.title(\"Epoch Average Loss\")\n",
        "x = [i + 1 for i in range(len(epoch_loss_values))]\n",
        "y = epoch_loss_values\n",
        "plt.xlabel(\"epoch\")\n",
        "plt.plot(x, y)\n",
        "plt.subplot(1, 2, 2)\n",
        "plt.title(\"Val AUC\")\n",
        "x = [val_interval * (i + 1) for i in range(len(metric_values))]\n",
        "y = metric_values\n",
        "plt.xlabel(\"epoch\")\n",
        "plt.plot(x, y)\n",
        "plt.show()"
      ],
      "metadata": {
        "colab": {
          "base_uri": "https://localhost:8080/",
          "height": 426
        },
        "id": "cdYdgkNYerlq",
        "outputId": "d83f02a3-721c-4147-8877-de49932462ca"
      },
      "execution_count": 14,
      "outputs": [
        {
          "output_type": "display_data",
          "data": {
            "text/plain": [
              "<Figure size 1200x600 with 2 Axes>"
            ],
            "image/png": "[encoded data removed]"
          },
          "metadata": {}
        }
      ]
    },
    {
      "cell_type": "markdown",
      "source": [
        "Evaluate the model on test dataset\n",
        "After training and validation, we already got the best model on validation test.\n",
        "We need to evaluate the model on test dataset to check whether it's robust and not over-fitting.\n",
        "We'll use these predictions to generate a classification report."
      ],
      "metadata": {
        "id": "uKAle7IiRX5p"
      }
    },
    {
      "cell_type": "code",
      "source": [
        "model.load_state_dict(torch.load(os.path.join(root_dir, \"best_metric_model.pth\")))\n",
        "model.eval()\n",
        "y_true = []\n",
        "y_pred = []\n",
        "with torch.no_grad():\n",
        "    for test_data in test_loader:\n",
        "        test_images, test_labels = (\n",
        "            test_data[0].to(device),\n",
        "            test_data[1].to(device),\n",
        "        )\n",
        "        pred = model(test_images).argmax(dim=1)\n",
        "        for i in range(len(pred)):\n",
        "            y_true.append(test_labels[i].item())\n",
        "            y_pred.append(pred[i].item())"
      ],
      "metadata": {
        "id": "4CHuvPxFiJ7B"
      },
      "execution_count": 15,
      "outputs": []
    },
    {
      "cell_type": "code",
      "source": [
        "print(classification_report(y_true, y_pred, target_names=class_names, digits=4))"
      ],
      "metadata": {
        "colab": {
          "base_uri": "https://localhost:8080/"
        },
        "id": "c_5r2TQk1N0Z",
        "outputId": "ac33dd86-9c9e-44cd-b99d-188570a77d1e"
      },
      "execution_count": 16,
      "outputs": [
        {
          "output_type": "stream",
          "name": "stdout",
          "text": [
            "              precision    recall  f1-score   support\n",
            "\n",
            "   AbdomenCT     0.9920    0.9950    0.9935       995\n",
            "   BreastMRI     0.9989    0.9886    0.9937       880\n",
            "         CXR     0.9980    1.0000    0.9990       982\n",
            "     ChestCT     0.9922    1.0000    0.9961      1014\n",
            "        Hand     1.0000    0.9952    0.9976      1048\n",
            "      HeadCT     0.9959    0.9969    0.9964       976\n",
            "\n",
            "    accuracy                         0.9961      5895\n",
            "   macro avg     0.9961    0.9960    0.9960      5895\n",
            "weighted avg     0.9961    0.9961    0.9961      5895\n",
            "\n"
          ]
        }
      ]
    },
    {
      "cell_type": "markdown",
      "source": [
        "Cleanup data directory\n",
        "Remove directory if a temporary was used."
      ],
      "metadata": {
        "id": "3tOWHa6tRcOZ"
      }
    },
    {
      "cell_type": "code",
      "source": [
        "if directory is None:\n",
        "    shutil.rmtree(root_dir)"
      ],
      "metadata": {
        "id": "qXh4Q7EL2NRA"
      },
      "execution_count": 17,
      "outputs": []
    },
    {
      "cell_type": "code",
      "source": [],
      "metadata": {
        "colab": {
          "base_uri": "https://localhost:8080/"
        },
        "id": "WXiWKgb34Zwp",
        "outputId": "c9b36c9e-a300-4dab-8bd8-cc18b7f27fce"
      },
      "execution_count": null,
      "outputs": [
        {
          "output_type": "stream",
          "name": "stdout",
          "text": [
            "Cloning into 'monai-classification'...\n",
            "remote: Enumerating objects: 4, done.\u001b[K\n",
            "remote: Total 4 (delta 0), reused 0 (delta 0), pack-reused 4 (from 1)\u001b[K\n",
            "Unpacking objects: 100% (4/4), 1.31 KiB | 1.31 MiB/s, done.\n"
          ]
        }
      ]
    },
    {
      "cell_type": "markdown",
      "source": [
        "Save model for hugging face deployment"
      ],
      "metadata": {
        "id": "NkM7gcDyRfh5"
      }
    },
    {
      "cell_type": "code",
      "source": [
        "import os\n",
        "import torch\n",
        "import monai\n",
        "\n",
        "# Define model architecture (ensure it matches your trained model)\n",
        "model = monai.networks.nets.DenseNet121(spatial_dims=2, in_channels=1, out_channels=6)\n",
        "device = torch.device(\"cuda\" if torch.cuda.is_available() else \"cpu\")\n",
        "model.to(device)\n",
        "\n",
        "print(f\"Root directory: {root_dir}\")\n",
        "\n",
        "# Load trained model weights\n",
        "# Assuming the model was saved in the 'root_dir' directory\n",
        "model.load_state_dict(torch.load(os.path.join(root_dir, \"best_metric_model.pth\"), map_location=device))\n",
        "model.eval()\n",
        "\n",
        "# Convert to TorchScript for deployment (Optional but recommended)\n",
        "example_input = torch.randn(1, 1, 128, 128) # Adjust input size if needed\n",
        "traced_model = torch.jit.trace(model, example_input.to(device))\n",
        "traced_model.save(\"model_scripted.pt\") # Save for inference"
      ],
      "metadata": {
        "id": "cZBvOrSNBplo",
        "colab": {
          "base_uri": "https://localhost:8080/",
          "height": 436
        },
        "outputId": "68347b78-311b-4c7d-cbae-cfb85d3ab227"
      },
      "execution_count": 9,
      "outputs": [
        {
          "output_type": "stream",
          "name": "stdout",
          "text": [
            "Root directory: /tmp/tmplm4ajn4b\n"
          ]
        },
        {
          "output_type": "error",
          "ename": "FileNotFoundError",
          "evalue": "[Errno 2] No such file or directory: '/tmp/tmplm4ajn4b/best_metric_model.pth'",
          "traceback": [
            "\u001b[0;31m---------------------------------------------------------------------------\u001b[0m",
            "\u001b[0;31mFileNotFoundError\u001b[0m                         Traceback (most recent call last)",
            "\u001b[0;32m<ipython-input-9-36d751c937a9>\u001b[0m in \u001b[0;36m<cell line: 0>\u001b[0;34m()\u001b[0m\n\u001b[1;32m     12\u001b[0m \u001b[0;31m# Load trained model weights\u001b[0m\u001b[0;34m\u001b[0m\u001b[0;34m\u001b[0m\u001b[0m\n\u001b[1;32m     13\u001b[0m \u001b[0;31m# Assuming the model was saved in the 'root_dir' directory\u001b[0m\u001b[0;34m\u001b[0m\u001b[0;34m\u001b[0m\u001b[0m\n\u001b[0;32m---> 14\u001b[0;31m \u001b[0mmodel\u001b[0m\u001b[0;34m.\u001b[0m\u001b[0mload_state_dict\u001b[0m\u001b[0;34m(\u001b[0m\u001b[0mtorch\u001b[0m\u001b[0;34m.\u001b[0m\u001b[0mload\u001b[0m\u001b[0;34m(\u001b[0m\u001b[0mos\u001b[0m\u001b[0;34m.\u001b[0m\u001b[0mpath\u001b[0m\u001b[0;34m.\u001b[0m\u001b[0mjoin\u001b[0m\u001b[0;34m(\u001b[0m\u001b[0mroot_dir\u001b[0m\u001b[0;34m,\u001b[0m \u001b[0;34m\"best_metric_model.pth\"\u001b[0m\u001b[0;34m)\u001b[0m\u001b[0;34m,\u001b[0m \u001b[0mmap_location\u001b[0m\u001b[0;34m=\u001b[0m\u001b[0mdevice\u001b[0m\u001b[0;34m)\u001b[0m\u001b[0;34m)\u001b[0m\u001b[0;34m\u001b[0m\u001b[0;34m\u001b[0m\u001b[0m\n\u001b[0m\u001b[1;32m     15\u001b[0m \u001b[0mmodel\u001b[0m\u001b[0;34m.\u001b[0m\u001b[0meval\u001b[0m\u001b[0;34m(\u001b[0m\u001b[0;34m)\u001b[0m\u001b[0;34m\u001b[0m\u001b[0;34m\u001b[0m\u001b[0m\n\u001b[1;32m     16\u001b[0m \u001b[0;34m\u001b[0m\u001b[0m\n",
            "\u001b[0;32m/usr/local/lib/python3.11/dist-packages/torch/serialization.py\u001b[0m in \u001b[0;36mload\u001b[0;34m(f, map_location, pickle_module, weights_only, mmap, **pickle_load_args)\u001b[0m\n\u001b[1;32m   1423\u001b[0m         \u001b[0mpickle_load_args\u001b[0m\u001b[0;34m[\u001b[0m\u001b[0;34m\"encoding\"\u001b[0m\u001b[0;34m]\u001b[0m \u001b[0;34m=\u001b[0m \u001b[0;34m\"utf-8\"\u001b[0m\u001b[0;34m\u001b[0m\u001b[0;34m\u001b[0m\u001b[0m\n\u001b[1;32m   1424\u001b[0m \u001b[0;34m\u001b[0m\u001b[0m\n\u001b[0;32m-> 1425\u001b[0;31m     \u001b[0;32mwith\u001b[0m \u001b[0m_open_file_like\u001b[0m\u001b[0;34m(\u001b[0m\u001b[0mf\u001b[0m\u001b[0;34m,\u001b[0m \u001b[0;34m\"rb\"\u001b[0m\u001b[0;34m)\u001b[0m \u001b[0;32mas\u001b[0m \u001b[0mopened_file\u001b[0m\u001b[0;34m:\u001b[0m\u001b[0;34m\u001b[0m\u001b[0;34m\u001b[0m\u001b[0m\n\u001b[0m\u001b[1;32m   1426\u001b[0m         \u001b[0;32mif\u001b[0m \u001b[0m_is_zipfile\u001b[0m\u001b[0;34m(\u001b[0m\u001b[0mopened_file\u001b[0m\u001b[0;34m)\u001b[0m\u001b[0;34m:\u001b[0m\u001b[0;34m\u001b[0m\u001b[0;34m\u001b[0m\u001b[0m\n\u001b[1;32m   1427\u001b[0m             \u001b[0;31m# The zipfile reader is going to advance the current file position.\u001b[0m\u001b[0;34m\u001b[0m\u001b[0;34m\u001b[0m\u001b[0m\n",
            "\u001b[0;32m/usr/local/lib/python3.11/dist-packages/torch/serialization.py\u001b[0m in \u001b[0;36m_open_file_like\u001b[0;34m(name_or_buffer, mode)\u001b[0m\n\u001b[1;32m    749\u001b[0m \u001b[0;32mdef\u001b[0m \u001b[0m_open_file_like\u001b[0m\u001b[0;34m(\u001b[0m\u001b[0mname_or_buffer\u001b[0m\u001b[0;34m,\u001b[0m \u001b[0mmode\u001b[0m\u001b[0;34m)\u001b[0m\u001b[0;34m:\u001b[0m\u001b[0;34m\u001b[0m\u001b[0;34m\u001b[0m\u001b[0m\n\u001b[1;32m    750\u001b[0m     \u001b[0;32mif\u001b[0m \u001b[0m_is_path\u001b[0m\u001b[0;34m(\u001b[0m\u001b[0mname_or_buffer\u001b[0m\u001b[0;34m)\u001b[0m\u001b[0;34m:\u001b[0m\u001b[0;34m\u001b[0m\u001b[0;34m\u001b[0m\u001b[0m\n\u001b[0;32m--> 751\u001b[0;31m         \u001b[0;32mreturn\u001b[0m \u001b[0m_open_file\u001b[0m\u001b[0;34m(\u001b[0m\u001b[0mname_or_buffer\u001b[0m\u001b[0;34m,\u001b[0m \u001b[0mmode\u001b[0m\u001b[0;34m)\u001b[0m\u001b[0;34m\u001b[0m\u001b[0;34m\u001b[0m\u001b[0m\n\u001b[0m\u001b[1;32m    752\u001b[0m     \u001b[0;32melse\u001b[0m\u001b[0;34m:\u001b[0m\u001b[0;34m\u001b[0m\u001b[0;34m\u001b[0m\u001b[0m\n\u001b[1;32m    753\u001b[0m         \u001b[0;32mif\u001b[0m \u001b[0;34m\"w\"\u001b[0m \u001b[0;32min\u001b[0m \u001b[0mmode\u001b[0m\u001b[0;34m:\u001b[0m\u001b[0;34m\u001b[0m\u001b[0;34m\u001b[0m\u001b[0m\n",
            "\u001b[0;32m/usr/local/lib/python3.11/dist-packages/torch/serialization.py\u001b[0m in \u001b[0;36m__init__\u001b[0;34m(self, name, mode)\u001b[0m\n\u001b[1;32m    730\u001b[0m \u001b[0;32mclass\u001b[0m \u001b[0m_open_file\u001b[0m\u001b[0;34m(\u001b[0m\u001b[0m_opener\u001b[0m\u001b[0;34m)\u001b[0m\u001b[0;34m:\u001b[0m\u001b[0;34m\u001b[0m\u001b[0;34m\u001b[0m\u001b[0m\n\u001b[1;32m    731\u001b[0m     \u001b[0;32mdef\u001b[0m \u001b[0m__init__\u001b[0m\u001b[0;34m(\u001b[0m\u001b[0mself\u001b[0m\u001b[0;34m,\u001b[0m \u001b[0mname\u001b[0m\u001b[0;34m,\u001b[0m \u001b[0mmode\u001b[0m\u001b[0;34m)\u001b[0m\u001b[0;34m:\u001b[0m\u001b[0;34m\u001b[0m\u001b[0;34m\u001b[0m\u001b[0m\n\u001b[0;32m--> 732\u001b[0;31m         \u001b[0msuper\u001b[0m\u001b[0;34m(\u001b[0m\u001b[0;34m)\u001b[0m\u001b[0;34m.\u001b[0m\u001b[0m__init__\u001b[0m\u001b[0;34m(\u001b[0m\u001b[0mopen\u001b[0m\u001b[0;34m(\u001b[0m\u001b[0mname\u001b[0m\u001b[0;34m,\u001b[0m \u001b[0mmode\u001b[0m\u001b[0;34m)\u001b[0m\u001b[0;34m)\u001b[0m\u001b[0;34m\u001b[0m\u001b[0;34m\u001b[0m\u001b[0m\n\u001b[0m\u001b[1;32m    733\u001b[0m \u001b[0;34m\u001b[0m\u001b[0m\n\u001b[1;32m    734\u001b[0m     \u001b[0;32mdef\u001b[0m \u001b[0m__exit__\u001b[0m\u001b[0;34m(\u001b[0m\u001b[0mself\u001b[0m\u001b[0;34m,\u001b[0m \u001b[0;34m*\u001b[0m\u001b[0margs\u001b[0m\u001b[0;34m)\u001b[0m\u001b[0;34m:\u001b[0m\u001b[0;34m\u001b[0m\u001b[0;34m\u001b[0m\u001b[0m\n",
            "\u001b[0;31mFileNotFoundError\u001b[0m: [Errno 2] No such file or directory: '/tmp/tmplm4ajn4b/best_metric_model.pth'"
          ]
        }
      ]
    },
    {
      "cell_type": "code",
      "source": [],
      "metadata": {
        "id": "DfOIIad26Me5"
      },
      "execution_count": null,
      "outputs": []
    }
  ]
}